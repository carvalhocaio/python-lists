{
 "cells": [
  {
   "cell_type": "markdown",
   "metadata": {
    "vscode": {
     "languageId": "plaintext"
    }
   },
   "source": [
    "# Coisas sobre listas em Python"
   ]
  },
  {
   "cell_type": "markdown",
   "metadata": {},
   "source": [
    "**1) Podemos usar * como combinar listas**\n",
    "\n",
    "Mais especificamente, quando colocado na frente de uma lista, o `*` faz com que a lista de _expanda_ em seu contêiner (por exemplo, outra lista)"
   ]
  },
  {
   "cell_type": "code",
   "execution_count": 25,
   "metadata": {},
   "outputs": [
    {
     "data": {
      "text/plain": [
       "[1, 2, 3, 4]"
      ]
     },
     "execution_count": 25,
     "metadata": {},
     "output_type": "execute_result"
    }
   ],
   "source": [
    "a = [1, 2]\n",
    "b = [3, 4]\n",
    "\n",
    "ls = [*a, *b]\n",
    "ls"
   ]
  },
  {
   "cell_type": "markdown",
   "metadata": {},
   "source": [
    "Podemos combinar isso com elementos singulares + escolher quais listas expandir e quais não. "
   ]
  },
  {
   "cell_type": "code",
   "execution_count": 26,
   "metadata": {},
   "outputs": [
    {
     "data": {
      "text/plain": [
       "[1, 2, 3, 4, 100, [5, 6]]"
      ]
     },
     "execution_count": 26,
     "metadata": {},
     "output_type": "execute_result"
    }
   ],
   "source": [
    "a = [1, 2]\n",
    "b = [3, 4]\n",
    "c = [5, 6]\n",
    "\n",
    "ls = [*a, *b, 100, c]\n",
    "ls"
   ]
  },
  {
   "cell_type": "markdown",
   "metadata": {},
   "source": [
    "**2) Podemos usar * para descompactar listas**\n",
    "\n",
    "Digamos que temos uma lista contendo algumas informações sobre um cachorro - o primeiro elemento é seu nome, o segundo elemento é sua idade e o restante é sua comida favorita."
   ]
  },
  {
   "cell_type": "code",
   "execution_count": 27,
   "metadata": {},
   "outputs": [],
   "source": [
    "dog = ['rocky', 5, 'chicken', 'fish', 'pork']"
   ]
  },
  {
   "cell_type": "markdown",
   "metadata": {},
   "source": [
    "Podemos usar `*` para _desempacotar_ uma seção da lista em uma variável. Por exemplo, queremos o nome e a idade individualmente, mas a comida favorita como uma lista."
   ]
  },
  {
   "cell_type": "code",
   "execution_count": 28,
   "metadata": {},
   "outputs": [
    {
     "name": "stdout",
     "output_type": "stream",
     "text": [
      "rocky\n",
      "5\n",
      "['chicken', 'fish', 'pork']\n"
     ]
    }
   ],
   "source": [
    "name, age, *fav_food = dog\n",
    "\n",
    "print(name)\n",
    "print(age)\n",
    "print(fav_food)"
   ]
  },
  {
   "cell_type": "markdown",
   "metadata": {},
   "source": [
    "Aqui, _rocky_ e 5 recebem _nome_ e _idade_, pois são os 2 primeiros elementos.\n",
    "\n",
    "Entretanto, `*fav_food` é atribuído a _todo o resto_ e captura todos os elementos não atribuídos como uma lista."
   ]
  },
  {
   "cell_type": "markdown",
   "metadata": {},
   "source": [
    "**3) Usando * unpack a list como argumentos de função**\n",
    "\n",
    "Digamos que temos uma função simples que recebe (a, b, c) e os imprime"
   ]
  },
  {
   "cell_type": "code",
   "execution_count": 29,
   "metadata": {},
   "outputs": [
    {
     "name": "stdout",
     "output_type": "stream",
     "text": [
      "a=4 b=5 c=6\n"
     ]
    }
   ],
   "source": [
    "def test(a, b, c):\n",
    "    print(f'{a=} {b=} {c=}')\n",
    "\n",
    "test(4, 5, 6)"
   ]
  },
  {
   "cell_type": "markdown",
   "metadata": {},
   "source": [
    "Se tivermos uma lista contendo 3 elementos, podemos passá-la para esta função usando o operador `*` para _desempacotá-la_. O operador `*` _desempacota_ os elementos da lista em seu contêiner."
   ]
  },
  {
   "cell_type": "code",
   "execution_count": 30,
   "metadata": {},
   "outputs": [
    {
     "name": "stdout",
     "output_type": "stream",
     "text": [
      "a=1 b=2 c=3\n"
     ]
    }
   ],
   "source": [
    "def test(a, b, c):\n",
    "    print(f'{a=} {b=} {c=}')\n",
    "\n",
    "numbers = [1 ,2, 3]\n",
    "test(*numbers)"
   ]
  },
  {
   "cell_type": "markdown",
   "metadata": {},
   "source": [
    "Aqui, dado que `numbers = [1, 2, 3]`, `test(*numbers)` é o mesmo que `test(1, 2, 3)`\n",
    "\n",
    "Observe que, neste caso, test(a, b, c) recebe exatamente 3 argumentos, então nossa lista de entrada deve conter exatamente 3 argumentos."
   ]
  },
  {
   "cell_type": "markdown",
   "metadata": {},
   "source": [
    "**4) zip() para iterar por 2 listas simultaneas**\n",
    "\n",
    "A função zip() integrada nos permite iterar por 1 ou mais listas simultaneamente:"
   ]
  },
  {
   "cell_type": "code",
   "execution_count": 31,
   "metadata": {},
   "outputs": [
    {
     "name": "stdout",
     "output_type": "stream",
     "text": [
      "apple 4\n",
      "orange 5\n",
      "pear 6\n"
     ]
    }
   ],
   "source": [
    "fruits = ['apple', 'orange', 'pear']\n",
    "prices = [4, 5, 6]\n",
    "\n",
    "for f, p in zip(fruits, prices):\n",
    "    print(f, p)"
   ]
  },
  {
   "cell_type": "markdown",
   "metadata": {},
   "source": [
    "Podemos iterar por 3 ou mais listas simultaneamente se desejarmos:"
   ]
  },
  {
   "cell_type": "code",
   "execution_count": 32,
   "metadata": {},
   "outputs": [
    {
     "name": "stdout",
     "output_type": "stream",
     "text": [
      "apple 4 pie\n",
      "orange 5 juice\n",
      "pear 6 cake\n"
     ]
    }
   ],
   "source": [
    "fruits = ['apple', 'orange', 'pear']\n",
    "prices = [4, 5, 6]\n",
    "recipes = ['pie', 'juice', 'cake']\n",
    "\n",
    "for f, p, r in zip(fruits, prices, recipes):\n",
    "    print(f, p, r)"
   ]
  },
  {
   "cell_type": "markdown",
   "metadata": {},
   "source": [
    "**5) enumerate() para gerar índice e valor durante a iteração**\n",
    "\n",
    "Se quisermos gerar o _índice_ e o _valor_ do nosso elemento de lista durante a iteração, podemos considerar o uso da função interna `enumerate()`."
   ]
  },
  {
   "cell_type": "code",
   "execution_count": 33,
   "metadata": {},
   "outputs": [
    {
     "name": "stdout",
     "output_type": "stream",
     "text": [
      "0 apple\n",
      "1 orange\n",
      "2 pear\n"
     ]
    }
   ],
   "source": [
    "fruits = ['apple', 'orange', 'pear']\n",
    "\n",
    "for index, fruit in enumerate(fruits):\n",
    "    print(index, fruit)"
   ]
  },
  {
   "cell_type": "markdown",
   "metadata": {},
   "source": [
    "**6) .sort() vs sorted()**\n",
    "\n",
    "Tanto `.sort()` quanto `sorted()` classificam um lista, mas há uma diferença fundamental.\n",
    "\n",
    "`.sort()` não retorna nada e é feito no lugar - o que significa que a própria lista original é classificada."
   ]
  },
  {
   "cell_type": "code",
   "execution_count": 34,
   "metadata": {},
   "outputs": [
    {
     "name": "stdout",
     "output_type": "stream",
     "text": [
      "None\n",
      "[1, 2, 3, 4]\n"
     ]
    }
   ],
   "source": [
    "ls = [1, 4, 2, 3]\n",
    "new = ls.sort()\n",
    "\n",
    "print(new)\n",
    "print(ls)"
   ]
  },
  {
   "cell_type": "markdown",
   "metadata": {},
   "source": [
    "`sorted()` cria e retorna uma _cópia ordenada_ da nossa lista - o que significa qua a lista original permanece como está e não é alterada. O que pode ser útil se quisermos preservar a ordem original das coisas por algum motivo. "
   ]
  },
  {
   "cell_type": "code",
   "execution_count": 35,
   "metadata": {},
   "outputs": [
    {
     "name": "stdout",
     "output_type": "stream",
     "text": [
      "[1, 2, 3, 4]\n",
      "[1, 4, 2, 3]\n"
     ]
    }
   ],
   "source": [
    "ls = [1, 4, 2, 3]\n",
    "new = sorted(ls)\n",
    "\n",
    "print(new)\n",
    "print(ls)"
   ]
  },
  {
   "cell_type": "markdown",
   "metadata": {},
   "source": [
    "**7) .sort() com condição personalizada**\n",
    "\n",
    "Isso funciona tanto para `.sort()` quanto para `sorted()`, mas vamos usar `.sort()` como nosso exemplo. Por padrão, `.sort()` classifica nossos números em ordem crescente. "
   ]
  },
  {
   "cell_type": "code",
   "execution_count": 36,
   "metadata": {},
   "outputs": [
    {
     "data": {
      "text/plain": [
       "[19, 22, 38]"
      ]
     },
     "execution_count": 36,
     "metadata": {},
     "output_type": "execute_result"
    }
   ],
   "source": [
    "ls = [38, 19, 22]\n",
    "ls.sort()\n",
    "\n",
    "ls"
   ]
  },
  {
   "cell_type": "markdown",
   "metadata": {},
   "source": [
    "Se desejarmos classificar por uma condição personalizada, podemos passar nossa função personalizada para o argumento da palavra-chave `key`. Digamos que queremos classificar pelo `último dígito` para obter [22, 38, 19]."
   ]
  },
  {
   "cell_type": "code",
   "execution_count": 37,
   "metadata": {},
   "outputs": [
    {
     "data": {
      "text/plain": [
       "[22, 38, 19]"
      ]
     },
     "execution_count": 37,
     "metadata": {},
     "output_type": "execute_result"
    }
   ],
   "source": [
    "ls = [38, 19, 22]\n",
    "\n",
    "def condition(num):\n",
    "    return num % 10\n",
    "\n",
    "ls.sort(key=condition)\n",
    "ls"
   ]
  },
  {
   "cell_type": "markdown",
   "metadata": {},
   "source": [
    "Podemos encurtar isso usando uma função lamvbda equivalente se quisermos."
   ]
  },
  {
   "cell_type": "code",
   "execution_count": 38,
   "metadata": {},
   "outputs": [
    {
     "data": {
      "text/plain": [
       "[22, 38, 19]"
      ]
     },
     "execution_count": 38,
     "metadata": {},
     "output_type": "execute_result"
    }
   ],
   "source": [
    "ls = [38, 19, 22]\n",
    "\n",
    "ls.sort(key=lambda n: n % 10)\n",
    "ls"
   ]
  },
  {
   "cell_type": "markdown",
   "metadata": {},
   "source": [
    "**8) Compreensão de lista (List comprehension)**\n",
    "\n",
    "Digamos que temos uma lista de frutas e queremos convertê-las para letras maiúsculas. Este é um método básico que podemos usar para fazer isso:"
   ]
  },
  {
   "cell_type": "code",
   "execution_count": 39,
   "metadata": {},
   "outputs": [
    {
     "data": {
      "text/plain": [
       "['APPLE', 'ORANGE', 'PEAR']"
      ]
     },
     "execution_count": 39,
     "metadata": {},
     "output_type": "execute_result"
    }
   ],
   "source": [
    "fruits = ['apple', 'orange', 'pear']\n",
    "\n",
    "new = []\n",
    "for fruit in fruits:\n",
    "    new.append(fruit.upper())\n",
    "\n",
    "new"
   ]
  },
  {
   "cell_type": "markdown",
   "metadata": {},
   "source": [
    "No entanto, podemos usar a compreensão de lista para fazer isso de forma mais elegante em uma linha de código. Aqui, a transformação `.upper()` é aplicada `dentro` da compreensão de lista em si."
   ]
  },
  {
   "cell_type": "code",
   "execution_count": 40,
   "metadata": {},
   "outputs": [
    {
     "data": {
      "text/plain": [
       "['APPLE', 'ORANGE', 'PEAR']"
      ]
     },
     "execution_count": 40,
     "metadata": {},
     "output_type": "execute_result"
    }
   ],
   "source": [
    "fruits = ['apple', 'orange', 'pear']\n",
    "\n",
    "new = [f.upper() for f in fruits]\n",
    "new"
   ]
  },
  {
   "cell_type": "markdown",
   "metadata": {},
   "source": [
    "Podemos adicionar um declaração condicional para filtrar frutas que desejamos manter. Por exemplo, vamos manter apenas frutas que tenham um comprimento de 5 ou mais:"
   ]
  },
  {
   "cell_type": "code",
   "execution_count": 41,
   "metadata": {},
   "outputs": [
    {
     "data": {
      "text/plain": [
       "['APPLE', 'ORANGE']"
      ]
     },
     "execution_count": 41,
     "metadata": {},
     "output_type": "execute_result"
    }
   ],
   "source": [
    "fruits = ['apple', 'orange', 'pear']\n",
    "\n",
    "new = [f.upper() for f in fruits if len(f) >= 5]\n",
    "new"
   ]
  },
  {
   "cell_type": "markdown",
   "metadata": {},
   "source": [
    "**9) Tuplas vs Listas**\n",
    "\n",
    "Tuplas são essencialmente listas imutáveis. O que significa que _não_ podemos mutar nossa tupla (adicionar/remover coisas) _depois_ de criá-la.\n",
    "\n",
    "Definimos uma tupla usando colchetes normais em vez de colchetes:"
   ]
  },
  {
   "cell_type": "code",
   "execution_count": 42,
   "metadata": {},
   "outputs": [],
   "source": [
    "ls = [1, 2, 3]\n",
    "ls.append(4)"
   ]
  },
  {
   "cell_type": "code",
   "execution_count": 43,
   "metadata": {},
   "outputs": [
    {
     "ename": "AttributeError",
     "evalue": "'tuple' object has no attribute 'append'",
     "output_type": "error",
     "traceback": [
      "\u001b[0;31m---------------------------------------------------------------------------\u001b[0m",
      "\u001b[0;31mAttributeError\u001b[0m                            Traceback (most recent call last)",
      "Cell \u001b[0;32mIn[43], line 2\u001b[0m\n\u001b[1;32m      1\u001b[0m tup \u001b[38;5;241m=\u001b[39m (\u001b[38;5;241m1\u001b[39m, \u001b[38;5;241m2\u001b[39m, \u001b[38;5;241m3\u001b[39m)\n\u001b[0;32m----> 2\u001b[0m \u001b[43mtup\u001b[49m\u001b[38;5;241;43m.\u001b[39;49m\u001b[43mappend\u001b[49m(\u001b[38;5;241m4\u001b[39m)\n",
      "\u001b[0;31mAttributeError\u001b[0m: 'tuple' object has no attribute 'append'"
     ]
    }
   ],
   "source": [
    "tup = (1, 2, 3)\n",
    "tup.append(4)"
   ]
  },
  {
   "cell_type": "markdown",
   "metadata": {},
   "source": [
    "Desvantagens de usar tuplas em vez de listas:\n",
    "\n",
    "- como as tuplas são imutáveis, não podemos adicionar novos elementos à nossa tupla\n",
    "- como as tuplas são imutáveis, não podemos remover elementos da nossa tupla\n",
    "\n",
    "Vantagens de usar tuplas em vez de listas:\n",
    "\n",
    "- tuplas são imutáveis, o que significa que são hasháveis\n",
    "- tuplas são hasháveis, o que significa que podem ser usadas como chaves de dicionário (listas não podem)\n",
    "- tuplas são hasháveis, o que significa que podem ser adicionadas a um conjunto (listas não podem)"
   ]
  },
  {
   "cell_type": "markdown",
   "metadata": {},
   "source": [
    "**10) O método .insert(index, element)**\n",
    "\n",
    "Provalvelmente estamos familiarizados com o método `.append()` de uma lista, que simplesmente adiciona um novo elemento ao _final_ de uma lista.\n",
    "\n",
    "Mas você sabia que também temos o método `.insert()`, que coloca um novo elemento em qualquer índice que desejarmos?\n",
    "\n",
    "Inserindo 'AAA' no índice 0 - 'AAA estará no índice 0 em nossa lista, e todo o resto será empurrado para trás em 1 índice."
   ]
  },
  {
   "cell_type": "code",
   "execution_count": 44,
   "metadata": {},
   "outputs": [
    {
     "data": {
      "text/plain": [
       "['AAA', 'apple', 'orange', 'pear']"
      ]
     },
     "execution_count": 44,
     "metadata": {},
     "output_type": "execute_result"
    }
   ],
   "source": [
    "ls = ['apple', 'orange', 'pear']\n",
    "ls.insert(0, 'AAA')\n",
    "\n",
    "ls"
   ]
  },
  {
   "cell_type": "markdown",
   "metadata": {},
   "source": [
    "Inserindo 'AAA' no índice 1 - 'AAA' estará no índice 1 da nossa lista, e todo o resto será empurrado para trás em 1 índice."
   ]
  },
  {
   "cell_type": "code",
   "execution_count": 45,
   "metadata": {},
   "outputs": [
    {
     "data": {
      "text/plain": [
       "['apple', 'AAA', 'orange', 'pear']"
      ]
     },
     "execution_count": 45,
     "metadata": {},
     "output_type": "execute_result"
    }
   ],
   "source": [
    "ls = ['apple', 'orange', 'pear']\n",
    "ls.insert(1, 'AAA')\n",
    "\n",
    "ls"
   ]
  },
  {
   "cell_type": "markdown",
   "metadata": {},
   "source": [
    "Nota - todos os elementos _após_ nosso índice serão empurrados para trás por 1 índice, o que significa que essa operação leva tempo O(n), ou tem um complexidade de tempo linear. O que significa apenas que isso pode ser lento se tivermos muitos elementos em nossa lista."
   ]
  },
  {
   "cell_type": "markdown",
   "metadata": {},
   "source": [
    "**11) O método .extend(outra_lista)**\n",
    "\n",
    "Podemos usar o método `.extend()` para adicionar todos os elementos de uma lista ao final de outra.\n",
    "\n",
    "Aqui em `a.extend(b)`, adicionamos tudo de b em a. E b permanece inalterado:"
   ]
  },
  {
   "cell_type": "code",
   "execution_count": 46,
   "metadata": {},
   "outputs": [
    {
     "name": "stdout",
     "output_type": "stream",
     "text": [
      "[1, 2, 3, 4]\n",
      "[3, 4]\n"
     ]
    }
   ],
   "source": [
    "a = [1, 2]\n",
    "b = [3, 4]\n",
    "\n",
    "a.extend(b)\n",
    "\n",
    "print(a)\n",
    "print(b)"
   ]
  },
  {
   "cell_type": "markdown",
   "metadata": {},
   "source": [
    "Tecnicamente, podemos fazer `a =  a + b`, mas esse método cria uma lista inteiramente nova e a atribui a `a`. O que torna esse método menos eficiente em termos de memória."
   ]
  },
  {
   "cell_type": "markdown",
   "metadata": {},
   "source": [
    "**12) lista[início:fim] = [1, 2, 3]**\n",
    "\n",
    "Você provavelmente sabe que podemos substituir elementos em listas usando `list[index] = new_element`.\n",
    "\n",
    "Mas você sabia que podemos substituir uma _série de elementos_ dessa maneira?"
   ]
  },
  {
   "cell_type": "code",
   "execution_count": 47,
   "metadata": {},
   "outputs": [
    {
     "data": {
      "text/plain": [
       "[1, 2, 3, 'dog', 'eve']"
      ]
     },
     "execution_count": 47,
     "metadata": {},
     "output_type": "execute_result"
    }
   ],
   "source": [
    "ls = ['apple', 'boy', 'cat', 'dog', 'eve']\n",
    "\n",
    "ls[0:3] = [1, 2, 3]\n",
    "ls"
   ]
  },
  {
   "cell_type": "markdown",
   "metadata": {},
   "source": [
    "Nota - os comprimentos dos intervalos não precisam corresponder. Podemos substituir um intervalo de comprimento 3 por apenas 1 elemento, assim com abaixo:"
   ]
  },
  {
   "cell_type": "code",
   "execution_count": 48,
   "metadata": {},
   "outputs": [
    {
     "data": {
      "text/plain": [
       "['apple', 100, 'eve']"
      ]
     },
     "execution_count": 48,
     "metadata": {},
     "output_type": "execute_result"
    }
   ],
   "source": [
    "ls = ['apple', 'boy', 'cat', 'dog', 'eve']\n",
    "\n",
    "ls[1:4] = [100]\n",
    "ls"
   ]
  }
 ],
 "metadata": {
  "kernelspec": {
   "display_name": ".venv",
   "language": "python",
   "name": "python3"
  },
  "language_info": {
   "codemirror_mode": {
    "name": "ipython",
    "version": 3
   },
   "file_extension": ".py",
   "mimetype": "text/x-python",
   "name": "python",
   "nbconvert_exporter": "python",
   "pygments_lexer": "ipython3",
   "version": "3.10.4"
  }
 },
 "nbformat": 4,
 "nbformat_minor": 2
}
